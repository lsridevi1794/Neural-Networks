{
 "cells": [
  {
   "cell_type": "markdown",
   "metadata": {},
   "source": [
    "Importing libraries"
   ]
  },
  {
   "cell_type": "code",
   "execution_count": null,
   "metadata": {},
   "outputs": [],
   "source": [
    "import numpy as np\n",
    "import matplotlib.pyplot as plt\n",
    "import math\n",
    "import random"
   ]
  },
  {
   "cell_type": "markdown",
   "metadata": {},
   "source": [
    "Initializing variables"
   ]
  },
  {
   "cell_type": "code",
   "execution_count": null,
   "metadata": {},
   "outputs": [],
   "source": [
    "x=np.random.rand(2,100)\n",
    "d=np.zeros((100,1))\n",
    "d1=np.zeros((100,1))\n",
    "D=np.zeros((100,1))\n",
    "Cp=[]\n",
    "Cn=[]\n"
   ]
  },
  {
   "cell_type": "markdown",
   "metadata": {},
   "source": [
    "Plotting the given data points"
   ]
  },
  {
   "cell_type": "code",
   "execution_count": null,
   "metadata": {},
   "outputs": [],
   "source": [
    "X,Y=np.meshgrid(np.linspace(0,1,100),np.linspace(0,1,100))\n",
    "sun=np.square(X-0.8)+np.square(Y-0.5)-np.square(0.15)\n",
    "#plt.contour(Y,X,sun,[0])\n",
    "\n",
    "y=np.linspace(0,1,100)\n",
    "mount=((1/5)*np.sin(10*y))+0.3\n",
    "#plt.plot(y,mount)\n",
    "\n",
    "for i in range(len(x[0])):\n",
    "\n",
    "    d[i][0]=((1/5)*np.sin(10*x[0][i]))+0.3\n",
    "    d1[i][0]=np.square(x[1][i]-0.8)+np.square(x[0][i]-0.5)\n",
    "\n",
    "    if x[1][i] < d[i][0] or d1[i][0] < np.square(0.15):\n",
    "        D[i][0]=1\n",
    "        Cp.append((x[0][i],x[1][i]))\n",
    "        cp=np.asarray(Cp)\n",
    "        plt.plot(x[0][i],x[1][i],'r.')\n",
    "\n",
    "    else:\n",
    "        D[i][0]=-1\n",
    "        Cn.append((x[0][i],x[1][i]))\n",
    "        cn=np.asarray(Cn)\n",
    "        plt.plot(x[0][i],x[1][i],'b.')"
   ]
  },
  {
   "cell_type": "markdown",
   "metadata": {},
   "source": [
    "Picking the centroid from the given set of datapoints"
   ]
  },
  {
   "cell_type": "code",
   "execution_count": null,
   "metadata": {},
   "outputs": [],
   "source": [
    "index_p=np.random.choice(len(cp),10,replace=0)\n",
    "print(index_p)\n",
    "\n",
    "index_n=np.random.choice(len(cn),10,replace=0)\n",
    "print(index_n)"
   ]
  },
  {
   "cell_type": "code",
   "execution_count": null,
   "metadata": {},
   "outputs": [],
   "source": [
    "center_p=np.zeros((10,2))\n",
    "center_n=np.zeros((10,2))\n",
    "for i in range(10):\n",
    "        center_p[i]=Cp[index_p[i]]\n",
    "        center_n[i]=Cn[index_n[i]]"
   ]
  },
  {
   "cell_type": "markdown",
   "metadata": {},
   "source": [
    "Plotting The chosen centrod points"
   ]
  },
  {
   "cell_type": "code",
   "execution_count": null,
   "metadata": {},
   "outputs": [],
   "source": [
    "plt.plot(cp[:,0],cp[:,1],'r.')\n",
    "plt.scatter(center_p[:,0],center_p[:,1],marker='*',c='y',s=150)\n",
    "plt.plot(cn[:,0],cn[:,1],'b.')\n",
    "plt.scatter(center_n[:,0],center_n[:,1],marker='o',c='g',s=50)"
   ]
  },
  {
   "cell_type": "markdown",
   "metadata": {},
   "source": [
    "Finding the new cluster centers for the positive class"
   ]
  },
  {
   "cell_type": "code",
   "execution_count": null,
   "metadata": {},
   "outputs": [],
   "source": [
    "k_p=10\n",
    "center_p_old=np.zeros(center_p.shape)\n",
    "center_p_new=center_p\n",
    "cluster_p=np.zeros(len(cp))\n",
    "dist_p=np.zeros((len(cp),k_p))\n",
    "error_p = np.linalg.norm(center_p_new - center_p_old)\n",
    "\n",
    "while error_p != 0:\n",
    "    # Measure the distance to every center\n",
    "    for i in range(k_p):\n",
    "        dist_p[:,i] = np.linalg.norm(cp - center_p_new[i], axis=1)\n",
    "    # Assign all training data to closest center\n",
    "    cluster_p = np.argmin(dist_p, axis = 1)\n",
    "    \n",
    "    center_p_old = center_p_new\n",
    "    # Calculate mean for every cluster and update the center\n",
    "    for i in range(k_p):\n",
    "        center_p_new[i] = np.mean(cp[cluster_p == i], axis=0)\n",
    "    error_p = np.linalg.norm(center_p_new - center_p_old)\n",
    "print('New cluster centers:',center_p_new)\n",
    "print('Updated clusters',cluster_p)\n"
   ]
  },
  {
   "cell_type": "markdown",
   "metadata": {},
   "source": [
    "Finding the new cluster centers for the negative class"
   ]
  },
  {
   "cell_type": "code",
   "execution_count": null,
   "metadata": {},
   "outputs": [],
   "source": [
    "k_n=10\n",
    "center_n_old=np.zeros(center_n.shape)\n",
    "center_n_new=center_n\n",
    "cluster_n=np.zeros(len(cn))\n",
    "dist_n=np.zeros((len(cn),k_n))\n",
    "error_n = np.linalg.norm(center_n_new - center_n_old)\n",
    "\n",
    "while error_n != 0:\n",
    "    # Measure the distance to every center\n",
    "    for i in range(k_n):\n",
    "        dist_n[:,i] = np.linalg.norm(cn - center_n_new[i], axis=1)\n",
    "    # Assign all training data to closest center\n",
    "    cluster_n = np.argmin(dist_n, axis = 1)\n",
    "    \n",
    "    center_n_old = center_n_new\n",
    "    # Calculate mean for every cluster and update the center\n",
    "    for i in range(k_n):\n",
    "        center_n_new[i] = np.mean(cn[cluster_n == i], axis=0)\n",
    "    error_n = np.linalg.norm(center_n_new - center_n_old)\n",
    "print('New cluster centers:',center_n_new)\n",
    "print('Updated clusters',cluster_n)\n"
   ]
  },
  {
   "cell_type": "markdown",
   "metadata": {},
   "source": [
    "Plotting the updated centroids"
   ]
  },
  {
   "cell_type": "code",
   "execution_count": null,
   "metadata": {},
   "outputs": [],
   "source": [
    "plt.plot(cp[:,0],cp[:,1],'r.')\n",
    "plt.scatter(center_p_new[:,0],center_p_new[:,1],marker='*',c='y',s=150)\n",
    "plt.plot(cn[:,0],cn[:,1],'b.')\n",
    "plt.scatter(center_n[:,0],center_n[:,1],marker='o',c='g',s=50)"
   ]
  },
  {
   "cell_type": "markdown",
   "metadata": {},
   "source": [
    "Concatenating the centers of both positive and negative classes"
   ]
  },
  {
   "cell_type": "code",
   "execution_count": null,
   "metadata": {},
   "outputs": [],
   "source": [
    "center=np.row_stack((center_p_new,center_n_new))\n",
    "print(center)"
   ]
  },
  {
   "cell_type": "markdown",
   "metadata": {},
   "source": [
    "Computing the RBF function"
   ]
  },
  {
   "cell_type": "code",
   "execution_count": null,
   "metadata": {},
   "outputs": [],
   "source": [
    "x_mu=np.zeros((100,len(center)))\n",
    "for i in range(100):\n",
    "    for j in range(len(center)):\n",
    "        x_mu[i][j]=np.linalg.norm(x[:,i]-center[j,:])\n",
    "rbf=np.exp(-16*np.square(x_mu))"
   ]
  },
  {
   "cell_type": "markdown",
   "metadata": {},
   "source": [
    "Perceptron training algorithm"
   ]
  },
  {
   "cell_type": "code",
   "execution_count": null,
   "metadata": {},
   "outputs": [],
   "source": [
    "K=20\n",
    "W=np.zeros((K,1))\n",
    "W=np.random.normal(size=(K,1))              #Initializing the weight vector \n",
    "bias=np.random.randn(1)\n",
    "errors=0                              #Initializing the misclassifications\n",
    "Mc=[]                                 #Storing the misclassification values after every epoch\n",
    "epoch=0\n",
    "lr=0.01\n",
    "#rbf=np.row_stack([rbf_p,rbf_n])\n"
   ]
  },
  {
   "cell_type": "code",
   "execution_count": null,
   "metadata": {},
   "outputs": [],
   "source": [
    "while(epoch==0 or Mc[epoch-1] > 0):\n",
    "#     errors=0\n",
    "    for i in range(len(rbf)):\n",
    "        #errors=0\n",
    "        y=np.sign(np.matmul(W.reshape(1,20),rbf[i].reshape(20,1))+bias)        \n",
    "        #Y=np.heaviside(y,1)\n",
    "        print('actual',y)\n",
    "        E=D[i]-y\n",
    "        print('Error',E)\n",
    "        Q=E*rbf[i].reshape(20,1)\n",
    "        W=W+lr*Q  \n",
    "        bias=bias+lr*E\n",
    "        errors = 0\n",
    "        for j in range(len(rbf)):\n",
    "            Y=np.sign(np.matmul(W.reshape(1,20),rbf[j].reshape(20,1))+bias) \n",
    "            if Y != D[j]:\n",
    "                errors=errors+1\n",
    "#                 print('count',errors)\n",
    "\n",
    "        Mc.append(errors)\n",
    "        print('Misclassification',Mc[epoch])\n",
    "        epoch=epoch+1\n",
    "    \n",
    "    "
   ]
  },
  {
   "cell_type": "markdown",
   "metadata": {},
   "source": [
    "Plotting Number of epochs against Misclassifications"
   ]
  },
  {
   "cell_type": "code",
   "execution_count": null,
   "metadata": {},
   "outputs": [],
   "source": [
    "plt.plot(Mc)\n",
    "plt.xlabel('Number of epochs')\n",
    "plt.ylabel('Number of misclassifications')\n",
    "plt.title('Epochs vs Misclassification')\n",
    "plt.show()"
   ]
  },
  {
   "cell_type": "markdown",
   "metadata": {},
   "source": [
    "Plotting the Decision Boundary"
   ]
  },
  {
   "cell_type": "code",
   "execution_count": null,
   "metadata": {},
   "outputs": [],
   "source": [
    "plt.plot(cp[:,0],cp[:,1],'r.')\n",
    "plt.scatter(center_p_new[:,0],center_p_new[:,1],marker='*',c='y',s=150)\n",
    "plt.plot(cn[:,0],cn[:,1],'b.')\n",
    "plt.scatter(center_n[:,0],center_n[:,1],marker='o',c='g',s=50)\n",
    "K_mu=0\n",
    "\n",
    "for i in np.linspace(0,1,1000):\n",
    "    for j in np.linspace(0,1,1000):\n",
    "        g=0\n",
    "        for k in range(len(center)):\n",
    "            K_mu=np.linalg.norm(np.asarray([i,j])-center[k,:])\n",
    "            RBF=np.exp(-16*np.square(K_mu))\n",
    "            g=g+np.multiply(W[k],RBF)\n",
    "        g=g+bias\n",
    "        print('G:',g)\n",
    "        if np.abs(g)<0.005:\n",
    "            plt.scatter(i,j,c='g')\n",
    "                    \n",
    "            "
   ]
  },
  {
   "cell_type": "code",
   "execution_count": null,
   "metadata": {},
   "outputs": [],
   "source": []
  },
  {
   "cell_type": "code",
   "execution_count": null,
   "metadata": {},
   "outputs": [],
   "source": []
  },
  {
   "cell_type": "code",
   "execution_count": null,
   "metadata": {},
   "outputs": [],
   "source": []
  },
  {
   "cell_type": "code",
   "execution_count": null,
   "metadata": {},
   "outputs": [],
   "source": []
  },
  {
   "cell_type": "code",
   "execution_count": null,
   "metadata": {},
   "outputs": [],
   "source": []
  },
  {
   "cell_type": "code",
   "execution_count": null,
   "metadata": {},
   "outputs": [],
   "source": []
  },
  {
   "cell_type": "code",
   "execution_count": null,
   "metadata": {},
   "outputs": [],
   "source": []
  }
 ],
 "metadata": {
  "kernelspec": {
   "display_name": "Python 3",
   "language": "python",
   "name": "python3"
  },
  "language_info": {
   "codemirror_mode": {
    "name": "ipython",
    "version": 3
   },
   "file_extension": ".py",
   "mimetype": "text/x-python",
   "name": "python",
   "nbconvert_exporter": "python",
   "pygments_lexer": "ipython3",
   "version": "3.6.5"
  }
 },
 "nbformat": 4,
 "nbformat_minor": 2
}
